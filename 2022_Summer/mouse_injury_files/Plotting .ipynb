{
 "cells": [
  {
   "cell_type": "code",
   "execution_count": 2,
   "id": "5d566993",
   "metadata": {},
   "outputs": [],
   "source": [
    "import pandas as pd\n",
    "import csv\n",
    "data=pd.read_csv(\"own5_15_encode_umap50.txt\",names=['x','y','l1','l2'],delimiter=\" \")\n"
   ]
  },
  {
   "cell_type": "code",
   "execution_count": 129,
   "id": "4049b50c",
   "metadata": {},
   "outputs": [
    {
     "data": {
      "image/png": "[encoded data removed]",
      "text/plain": [
       "<Figure size 432x288 with 1 Axes>"
      ]
     },
     "metadata": {
      "needs_background": "light"
     },
     "output_type": "display_data"
    }
   ],
   "source": [
    "import matplotlib.pyplot as plt \n",
    "from mpl_toolkits import mplot3d\n",
    "import numpy as np\n",
    "import matplotlib.pyplot as plt\n",
    "import matplotlib.colors as mcolors\n",
    "X=[]\n",
    "Y=[]\n",
    "colors=['r','g','b','c','gold','m','y','teal','lime','pink','peru','violet','orange','tan','thistle','gold','crimson','olive','hotpink']\n",
    "\n",
    "fig = plt.figure()\n",
    "i=0\n",
    "for nneigh in range(95,100,5):\n",
    "    data=pd.read_csv(\"own5_15_encode_umap\"+str(nneigh)+\".txt\",names=['x','y','l1','l2'],delimiter=\" \")\n",
    "    # x axis values \n",
    "    x =(data['x'])\n",
    "    # corresponding y axis values \n",
    "    y =data['y']\n",
    "\n",
    "    l2=data['l2']\n",
    "    l1=data['l1']\n",
    "    colors_list=[]\n",
    "    for i in range(len(l2)):\n",
    "        colors_list.append(colors[int(l2[i])])\n",
    "    plt.scatter(x, y, s=25, c=colors_list, marker=\"s\")\n",
    "    i=i+1 \n",
    "#plt.savefig (\"UMAP.jpeg\")\n",
    "plt.show()\n"
   ]
  },
  {
   "cell_type": "code",
   "execution_count": null,
   "id": "b5564e92",
   "metadata": {},
   "outputs": [],
   "source": []
  },
  {
   "cell_type": "code",
   "execution_count": 130,
   "id": "ac8707f7",
   "metadata": {},
   "outputs": [
    {
     "data": {
      "image/png": "[encoded data removed]",
      "text/plain": [
       "<Figure size 432x288 with 1 Axes>"
      ]
     },
     "metadata": {
      "needs_background": "light"
     },
     "output_type": "display_data"
    }
   ],
   "source": [
    "import matplotlib.pyplot as plt \n",
    "from mpl_toolkits import mplot3d\n",
    "import numpy as np\n",
    "import matplotlib.pyplot as plt\n",
    "import matplotlib.colors as mcolors\n",
    "import math \n",
    "X=[]\n",
    "Y=[]\n",
    "colors=['r','g','b','c','gold','m','y','teal','lime','pink','peru','violet','orange','tan','thistle','gold','crimson','olive','hotpink']\n",
    "\n",
    "\n",
    "fig = plt.figure()\n",
    "i=0\n",
    "for perplexity in range(50,55,5):\n",
    "    data=pd.read_csv(str(perplexity)+\"_tsne.txt\",names=['x','y','l1','l2'],delimiter=\" \")\n",
    "    # x axis values \n",
    "    x =(data['x'])\n",
    "    # corresponding y axis values \n",
    "    y =data['y']\n",
    "    l1=data['l1']\n",
    "\n",
    "    l2=data['l2']\n",
    "    colors_list=[]\n",
    "    for i in range(len(l2)):\n",
    "        colors_list.append(colors[int(((l2[i]+1)))])\n",
    "    plt.scatter(x, y, s=25, c=colors_list, marker=\"s\")\n",
    "    i=i+1 \n",
    "plt.savefig (\"TSNE.jpeg\")\n",
    "plt.show()"
   ]
  },
  {
   "cell_type": "code",
   "execution_count": null,
   "id": "c5676504",
   "metadata": {},
   "outputs": [],
   "source": []
  },
  {
   "cell_type": "code",
   "execution_count": null,
   "id": "9a38f8cf",
   "metadata": {},
   "outputs": [],
   "source": []
  }
 ],
 "metadata": {
  "kernelspec": {
   "display_name": "Python 3",
   "language": "python",
   "name": "python3"
  },
  "language_info": {
   "codemirror_mode": {
    "name": "ipython",
    "version": 3
   },
   "file_extension": ".py",
   "mimetype": "text/x-python",
   "name": "python",
   "nbconvert_exporter": "python",
   "pygments_lexer": "ipython3",
   "version": "3.8.8"
  }
 },
 "nbformat": 4,
 "nbformat_minor": 5
}
