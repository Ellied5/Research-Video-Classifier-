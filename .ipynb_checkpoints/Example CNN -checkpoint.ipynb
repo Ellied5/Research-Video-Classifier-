{
 "cells": [
  {
   "cell_type": "code",
   "execution_count": null,
   "id": "0aba49d6",
   "metadata": {},
   "outputs": [],
   "source": [
    "# The first step is to import the libraries necessary to perform the mathematical operations and the keras data set \n",
    "import numpy as np \n",
    "import pandas as pd \n",
    "from tqdm import tqdm \n",
    "from keras.datasets import mnist \n",
    "\n",
    "# this loads the data from the mnist data set \n",
    "(xtrain, ytrain), (xtest,xtest) = mnist.load_data()\n",
    "\n",
    "#this selects a subset of the mnist data (150 images)\n",
    "xtrain=xtrain[:150]\n",
    "y=ytrain[:150]\n",
    "\n",
    "X=xtrain.T\n",
    "X=X/255\n",
    "\n",
    "y.resize((150,1))\n",
    "y=y.T\n",
    "\n",
    "#check the values \n",
    "pd.Series(y[0]).value_counts()"
   ]
  }
 ],
 "metadata": {
  "kernelspec": {
   "display_name": "Python 3 (ipykernel)",
   "language": "python",
   "name": "python3"
  },
  "language_info": {
   "codemirror_mode": {
    "name": "ipython",
    "version": 3
   },
   "file_extension": ".py",
   "mimetype": "text/x-python",
   "name": "python",
   "nbconvert_exporter": "python",
   "pygments_lexer": "ipython3",
   "version": "3.10.4"
  }
 },
 "nbformat": 4,
 "nbformat_minor": 5
}
