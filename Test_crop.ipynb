{
 "cells": [
  {
   "cell_type": "code",
   "execution_count": 6,
   "id": "c9bb1cc0",
   "metadata": {},
   "outputs": [
    {
     "name": "stdout",
     "output_type": "stream",
     "text": [
      "Processing Pre-Injury Videos..\n",
      "Completed.\n"
     ]
    }
   ],
   "source": [
    "import sys\n",
    "import torch\n",
    "import torchvision\n",
    "import numpy as np\n",
    "import torch.nn.functional as F\n",
    "from torchvision.utils import save_image\n",
    "from torchvision.io import write_jpeg\n",
    "from torchvision import transforms\n",
    "from torchvision.transforms.functional import to_tensor\n",
    "from PIL import Image\n",
    "import random\n",
    "import os \n",
    "\n",
    "\n",
    "data_transforms = transforms.Compose([\n",
    "    transforms.Resize((256, 256)),transforms.ToTensor(),\n",
    "\t\ttransforms.Normalize(mean=[0.485, 0.456, 0.406], std=[0.229, 0.224, 0.225]),])\n",
    "trans=transforms.ToPILImage()\n",
    "ass = []\n",
    "\n",
    "\n",
    "print(\"Processing Pre-Injury Videos..\")   \n",
    "path =\"Divided_clips/Train/Pre-Injury/\" \n",
    "i=0\n",
    "for vid in os.listdir(path):  \n",
    "\tdt,_,_ = torchvision.io.read_video(os.path.join(path,vid))\n",
    "\tdt = dt.permute(0, 3, 1, 2)\n",
    "\tq1=int(dt.shape[0]*.52)\n",
    "\tq3=int(dt.shape[0]*.65)\n",
    "\tl = random.sample(range(q1,q3), 5)\n",
    "\tfor k in range(len(l)): \n",
    "\t\timgj = dt[l[k],:,:,:]\n",
    "\t\timgj=trans(imgj)\n",
    "\t\t#imgj=data_transforms(imgj)\n",
    "\t\t#imgj=trans(imgj)\n",
    "\t\t(top_left, top_right, bottom_left, bottom_right, imgj)=transforms.FiveCrop(size=(425,425))(imgj)\n",
    "\t\timgj=transforms.Grayscale()(imgj)\n",
    "\t\timgj=transforms.ToTensor()(imgj)    \n",
    "\t\tnewpath = 'divdata/Train/Pre-Injury/'+str(i)+'/'\n",
    "\t\tif not os.path.exists(newpath):\n",
    "\t\t\tos.makedirs(newpath)\n",
    "\t\tsave_image(imgj, newpath+str(k)+'.tiff')\n",
    "\ti=i+1\n",
    "print(\"Completed.\")\n"
   ]
  },
  {
   "cell_type": "code",
   "execution_count": 8,
   "id": "20d1ae41",
   "metadata": {},
   "outputs": [
    {
     "name": "stdout",
     "output_type": "stream",
     "text": [
      "Processing Post-Injury Videos..\n",
      "Completed.\n"
     ]
    }
   ],
   "source": [
    "torch.Size([40, 540, 960, 3])\n",
    "print(\"Processing Post-Injury Videos..\")\n",
    "path =\"Divided_clips/Train/Post-Injury/\"\n",
    "i=0\n",
    "for vid in os.listdir(path):  \n",
    "\tdt,_,_ = torchvision.io.read_video(os.path.join(path,vid))\n",
    "\tdt = dt.permute(0, 3, 1, 2)\n",
    "\tq1=int(dt.shape[0]*.52)\n",
    "\tq3=int(dt.shape[0]*.65)\n",
    "\tl = random.sample(range(q1,q3), 5)\n",
    "\tfor k in range(len(l)): \n",
    "\t\timgj = dt[l[k],:,:,:]\n",
    "\t\timgj=trans(imgj)\n",
    "\t\t#imgj=data_transforms(imgj)\n",
    "\t\t#imgj=trans(imgj)\n",
    "\t\t(top_left, top_right, bottom_left, bottom_right, imgj)=transforms.FiveCrop(size=(425,425))(imgj)\n",
    "\t\timgj=transforms.Grayscale()(imgj)\n",
    "\t\timgj=transforms.ToTensor()(imgj)  \n",
    "\t\tnewpath = 'divdata/Train/Post-Injury/'+str(i)+'/'\n",
    "\t\tif not os.path.exists(newpath):\n",
    "\t\t\tos.makedirs(newpath)\n",
    "\t\tsave_image(imgj, newpath+str(k)+'.tiff')\n",
    "\ti=i+1\n",
    "print(\"Completed.\")\n"
   ]
  },
  {
   "cell_type": "code",
   "execution_count": 9,
   "id": "f914691d",
   "metadata": {},
   "outputs": [
    {
     "name": "stdout",
     "output_type": "stream",
     "text": [
      "Completed.\n"
     ]
    }
   ],
   "source": [
    "path =\"Divided_clips/Test/Pre-Injury/\" \n",
    "i=0\n",
    "for vid in os.listdir(path):  \n",
    "\tdt,_,_ = torchvision.io.read_video(os.path.join(path,vid))\n",
    "\tdt = dt.permute(0, 3, 1, 2)\n",
    "\tq1=int(dt.shape[0]*.52)\n",
    "\tq3=int(dt.shape[0]*.65)\n",
    "\tl = random.sample(range(q1,q3), 5)\n",
    "\tfor k in range(len(l)): \n",
    "\t\timgj = dt[l[k],:,:,:]\n",
    "\t\timgj=trans(imgj)\n",
    "\t\t#imgj=data_transforms(imgj)\n",
    "\t\t#imgj=trans(imgj)\n",
    "\t\t(top_left, top_right, bottom_left, bottom_right, imgj)=transforms.FiveCrop(size=(425,425))(imgj)\n",
    "\t\timgj=transforms.Grayscale()(imgj)\n",
    "\t\timgj=transforms.ToTensor()(imgj)    \n",
    "\t\tnewpath = 'divdata/Test/Pre-Injury/'+str(i)+'/'\n",
    "\t\tif not os.path.exists(newpath):\n",
    "\t\t\tos.makedirs(newpath)\n",
    "\t\tsave_image(imgj, newpath+str(k)+'.tiff')\n",
    "\ti=i+1\n",
    "print(\"Completed.\")\n"
   ]
  },
  {
   "cell_type": "code",
   "execution_count": 11,
   "id": "eed7f0f1",
   "metadata": {},
   "outputs": [
    {
     "name": "stdout",
     "output_type": "stream",
     "text": [
      "Processing Post-Injury Videos..\n",
      "Completed.\n"
     ]
    }
   ],
   "source": [
    "torch.Size([40, 540, 960, 3])\n",
    "print(\"Processing Post-Injury Videos..\")\n",
    "path =\"Divided_clips/Test/Post-Injury/\"\n",
    "i=0\n",
    "for vid in os.listdir(path):  \n",
    "\tdt,_,_ = torchvision.io.read_video(os.path.join(path,vid))\n",
    "\tdt = dt.permute(0, 3, 1, 2)\n",
    "\tq1=int(dt.shape[0]*.52)\n",
    "\tq3=int(dt.shape[0]*.65)\n",
    "\tl = random.sample(range(q1,q3), 5)\n",
    "\tfor k in range(len(l)): \n",
    "\t\timgj = dt[l[k],:,:,:]\n",
    "\t\timgj=trans(imgj)\n",
    "\t\t#imgj=data_transforms(imgj)\n",
    "\t\t#imgj=trans(imgj)\n",
    "\t\t(top_left, top_right, bottom_left, bottom_right, imgj)=transforms.FiveCrop(size=(425,425))(imgj)\n",
    "\t\timgj=transforms.Grayscale()(imgj)\n",
    "\t\timgj=transforms.ToTensor()(imgj)  \n",
    "\t\tnewpath = 'divdata/Test/Post-Injury/'+str(i)+'/'\n",
    "\t\tif not os.path.exists(newpath):\n",
    "\t\t\tos.makedirs(newpath)\n",
    "\t\tsave_image(imgj, newpath+str(k)+'.tiff')\n",
    "\ti=i+1\n",
    "print(\"Completed.\")\n"
   ]
  },
  {
   "cell_type": "code",
   "execution_count": null,
   "id": "cdbaa5c9",
   "metadata": {},
   "outputs": [],
   "source": []
  }
 ],
 "metadata": {
  "kernelspec": {
   "display_name": "Python 3 (ipykernel)",
   "language": "python",
   "name": "python3"
  },
  "language_info": {
   "codemirror_mode": {
    "name": "ipython",
    "version": 3
   },
   "file_extension": ".py",
   "mimetype": "text/x-python",
   "name": "python",
   "nbconvert_exporter": "python",
   "pygments_lexer": "ipython3",
   "version": "3.10.4"
  }
 },
 "nbformat": 4,
 "nbformat_minor": 5
}
