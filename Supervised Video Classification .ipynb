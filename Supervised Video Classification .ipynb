{
 "cells": [
  {
   "cell_type": "code",
   "execution_count": null,
   "id": "df99ea91",
   "metadata": {},
   "outputs": [],
   "source": [
    "import numpy as np\n",
    "import matplotlib.pyplot as mp\n",
    "import os \n",
    "import cv2 \n",
    "\n",
    "DataDir=\"F:/Summer 2022/Images\"\n",
    "Categories=[\"Post-Injury\", \"Pre-Injury\"]\n"
   ]
  }
 ],
 "metadata": {
  "kernelspec": {
   "display_name": "Python 3 (ipykernel)",
   "language": "python",
   "name": "python3"
  },
  "language_info": {
   "codemirror_mode": {
    "name": "ipython",
    "version": 3
   },
   "file_extension": ".py",
   "mimetype": "text/x-python",
   "name": "python",
   "nbconvert_exporter": "python",
   "pygments_lexer": "ipython3",
   "version": "3.10.4"
  }
 },
 "nbformat": 4,
 "nbformat_minor": 5
}
