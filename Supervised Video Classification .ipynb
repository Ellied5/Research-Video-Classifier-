{
 "cells": [
  {
   "cell_type": "code",
   "execution_count": 1,
   "id": "df99ea91",
   "metadata": {},
   "outputs": [
    {
     "name": "stdout",
     "output_type": "stream",
     "text": [
      "Training data is loading...\n",
      "Done!\n"
     ]
    }
   ],
   "source": [
    "\n",
    "import numpy as np\n",
    "import matplotlib.pyplot as plt\n",
    "import os \n",
    "import cv2 \n",
    "\n",
    "DataDir=\"F:/2022_Summer/data\"\n",
    "Categories=[\"Post-Injury\", \"Pre-Injury\"]\n",
    "\n",
    "trainingdata=[] \n",
    "def createtrainingdata():\n",
    "#creates a data set of images and labels \n",
    "    print(\"Training data is loading...\")\n",
    "    for category in Categories: \n",
    "        path=os.path.join(DataDir,category)\n",
    "        classnum=Categories.index(category)\n",
    "        for vid in os.listdir(path):\n",
    "            vpath=os.path.join(path,vid)\n",
    "            #vid_array=[]\n",
    "            for frame in os.listdir(vpath): \n",
    "                img_array=cv2.imread(os.path.join(vpath,frame),0)\n",
    "               #vid_array.append(img_array)\n",
    "                trainingdata.append([img_array,classnum])\n",
    "            \n",
    "    print(\"Done!\")\n",
    "createtrainingdata()"
   ]
  },
  {
   "cell_type": "code",
   "execution_count": 2,
   "id": "b374db1d",
   "metadata": {},
   "outputs": [
    {
     "name": "stdout",
     "output_type": "stream",
     "text": [
      "Data is randomized!\n",
      "0\n",
      "1\n",
      "1\n",
      "0\n",
      "0\n",
      "0\n",
      "0\n",
      "0\n",
      "0\n",
      "0\n"
     ]
    }
   ],
   "source": [
    "#Randomizes the order of the data set \n",
    "import random \n",
    "random.shuffle(trainingdata)\n",
    "print(\"Data is randomized!\")\n",
    "for sample in trainingdata[:10]:\n",
    "    print(sample[1])"
   ]
  },
  {
   "cell_type": "code",
   "execution_count": 8,
   "id": "dbe2ac07",
   "metadata": {},
   "outputs": [
    {
     "name": "stdout",
     "output_type": "stream",
     "text": [
      "Data is formatted!\n"
     ]
    }
   ],
   "source": [
    "#Changes the traingdata into X and Y numpy arrays to be inputted into the model \n",
    "X=[]\n",
    "Y=[]\n",
    "for features,label in trainingdata:\n",
    "    X.append(features)\n",
    "    Y.append(label)\n",
    "\n",
    "X=np.array(X)\n",
    "Y=np.array(Y)\n",
    "X=X.reshape(-1,X[1].shape[0],X[1].shape[1],1)\n",
    "print(\"Data is formatted!\")"
   ]
  },
  {
   "cell_type": "code",
   "execution_count": 4,
   "id": "dd5c48dc",
   "metadata": {},
   "outputs": [],
   "source": [
    "#saves training data \n",
    "import pickle \n",
    "pickle_out=open(\"X.pickle\", \"wb\")\n",
    "pickle.dump(X,pickle_out)\n",
    "pickle_out.close()\n",
    "pickle_out=open(\"Y.pickle\", \"wb\")\n",
    "pickle.dump(Y,pickle_out)\n",
    "pickle_out.close()"
   ]
  },
  {
   "cell_type": "code",
   "execution_count": 10,
   "id": "62f44c5c",
   "metadata": {},
   "outputs": [
    {
     "name": "stdout",
     "output_type": "stream",
     "text": [
      "Epoch 1/3\n",
      "1383/1383 [==============================] - 42s 30ms/step - loss: 0.0179 - accuracy: 0.9941 - val_loss: 1.2202e-06 - val_accuracy: 1.0000\n",
      "Epoch 2/3\n",
      "1383/1383 [==============================] - 39s 28ms/step - loss: 3.2786e-07 - accuracy: 1.0000 - val_loss: 1.6525e-07 - val_accuracy: 1.0000\n",
      "Epoch 3/3\n",
      "1383/1383 [==============================] - 39s 28ms/step - loss: 8.8965e-08 - accuracy: 1.0000 - val_loss: 6.4031e-08 - val_accuracy: 1.0000\n",
      "WARNING:tensorflow:Model was constructed with shape (None, 256, 256, 1) for input KerasTensor(type_spec=TensorSpec(shape=(None, 256, 256, 1), dtype=tf.float32, name='conv2d_2_input'), name='conv2d_2_input', description=\"created by layer 'conv2d_2_input'\"), but it was called on an input with incompatible shape (32, 256, 1, 1).\n"
     ]
    },
    {
     "ename": "ValueError",
     "evalue": "in user code:\n\n    File \"C:\\Users\\DeepLabCut\\anaconda3\\envs\\vidan\\lib\\site-packages\\keras\\engine\\training.py\", line 1845, in predict_function  *\n        return step_function(self, iterator)\n    File \"C:\\Users\\DeepLabCut\\anaconda3\\envs\\vidan\\lib\\site-packages\\keras\\engine\\training.py\", line 1834, in step_function  **\n        outputs = model.distribute_strategy.run(run_step, args=(data,))\n    File \"C:\\Users\\DeepLabCut\\anaconda3\\envs\\vidan\\lib\\site-packages\\keras\\engine\\training.py\", line 1823, in run_step  **\n        outputs = model.predict_step(data)\n    File \"C:\\Users\\DeepLabCut\\anaconda3\\envs\\vidan\\lib\\site-packages\\keras\\engine\\training.py\", line 1791, in predict_step\n        return self(x, training=False)\n    File \"C:\\Users\\DeepLabCut\\anaconda3\\envs\\vidan\\lib\\site-packages\\keras\\utils\\traceback_utils.py\", line 67, in error_handler\n        raise e.with_traceback(filtered_tb) from None\n\n    ValueError: Exception encountered when calling layer \"conv2d_2\" (type Conv2D).\n    \n    Negative dimension size caused by subtracting 3 from 1 for '{{node sequential_1/conv2d_2/Conv2D}} = Conv2D[T=DT_FLOAT, data_format=\"NHWC\", dilations=[1, 1, 1, 1], explicit_paddings=[], padding=\"VALID\", strides=[1, 1, 1, 1], use_cudnn_on_gpu=true](sequential_1/ExpandDims, sequential_1/conv2d_2/Conv2D/ReadVariableOp)' with input shapes: [32,256,1,1], [3,3,1,64].\n    \n    Call arguments received by layer \"conv2d_2\" (type Conv2D):\n      • inputs=tf.Tensor(shape=(32, 256, 1, 1), dtype=float32)\n",
     "output_type": "error",
     "traceback": [
      "\u001b[1;31m---------------------------------------------------------------------------\u001b[0m",
      "\u001b[1;31mValueError\u001b[0m                                Traceback (most recent call last)",
      "Input \u001b[1;32mIn [10]\u001b[0m, in \u001b[0;36m<cell line: 37>\u001b[1;34m()\u001b[0m\n\u001b[0;32m     33\u001b[0m model\u001b[38;5;241m.\u001b[39mcompile(loss\u001b[38;5;241m=\u001b[39m\u001b[38;5;124m\"\u001b[39m\u001b[38;5;124mbinary_crossentropy\u001b[39m\u001b[38;5;124m\"\u001b[39m, optimizer\u001b[38;5;241m=\u001b[39m\u001b[38;5;124m\"\u001b[39m\u001b[38;5;124madam\u001b[39m\u001b[38;5;124m\"\u001b[39m, metrics\u001b[38;5;241m=\u001b[39m[\u001b[38;5;124m'\u001b[39m\u001b[38;5;124maccuracy\u001b[39m\u001b[38;5;124m'\u001b[39m])\n\u001b[0;32m     35\u001b[0m model\u001b[38;5;241m.\u001b[39mfit(X,Y, batch_size\u001b[38;5;241m=\u001b[39m\u001b[38;5;241m32\u001b[39m,epochs\u001b[38;5;241m=\u001b[39m\u001b[38;5;241m3\u001b[39m,validation_split\u001b[38;5;241m=\u001b[39m\u001b[38;5;241m0.2\u001b[39m,callbacks\u001b[38;5;241m=\u001b[39m[tensorboard])\n\u001b[1;32m---> 37\u001b[0m \u001b[43mmodel\u001b[49m\u001b[38;5;241;43m.\u001b[39;49m\u001b[43mpredict\u001b[49m\u001b[43m(\u001b[49m\u001b[43mX\u001b[49m\u001b[43m[\u001b[49m\u001b[38;5;241;43m1\u001b[39;49m\u001b[43m]\u001b[49m\u001b[43m)\u001b[49m\n\u001b[0;32m     38\u001b[0m \u001b[38;5;28mprint\u001b[39m(Y[\u001b[38;5;241m1\u001b[39m])\n",
      "File \u001b[1;32m~\\anaconda3\\envs\\vidan\\lib\\site-packages\\keras\\utils\\traceback_utils.py:67\u001b[0m, in \u001b[0;36mfilter_traceback.<locals>.error_handler\u001b[1;34m(*args, **kwargs)\u001b[0m\n\u001b[0;32m     65\u001b[0m \u001b[38;5;28;01mexcept\u001b[39;00m \u001b[38;5;167;01mException\u001b[39;00m \u001b[38;5;28;01mas\u001b[39;00m e:  \u001b[38;5;66;03m# pylint: disable=broad-except\u001b[39;00m\n\u001b[0;32m     66\u001b[0m   filtered_tb \u001b[38;5;241m=\u001b[39m _process_traceback_frames(e\u001b[38;5;241m.\u001b[39m__traceback__)\n\u001b[1;32m---> 67\u001b[0m   \u001b[38;5;28;01mraise\u001b[39;00m e\u001b[38;5;241m.\u001b[39mwith_traceback(filtered_tb) \u001b[38;5;28;01mfrom\u001b[39;00m \u001b[38;5;28mNone\u001b[39m\n\u001b[0;32m     68\u001b[0m \u001b[38;5;28;01mfinally\u001b[39;00m:\n\u001b[0;32m     69\u001b[0m   \u001b[38;5;28;01mdel\u001b[39;00m filtered_tb\n",
      "File \u001b[1;32mC:\\Users\\DEEPLA~1\\AppData\\Local\\Temp\\__autograph_generated_filemwx0qyig.py:15\u001b[0m, in \u001b[0;36mouter_factory.<locals>.inner_factory.<locals>.tf__predict_function\u001b[1;34m(iterator)\u001b[0m\n\u001b[0;32m     13\u001b[0m \u001b[38;5;28;01mtry\u001b[39;00m:\n\u001b[0;32m     14\u001b[0m     do_return \u001b[38;5;241m=\u001b[39m \u001b[38;5;28;01mTrue\u001b[39;00m\n\u001b[1;32m---> 15\u001b[0m     retval_ \u001b[38;5;241m=\u001b[39m ag__\u001b[38;5;241m.\u001b[39mconverted_call(ag__\u001b[38;5;241m.\u001b[39mld(step_function), (ag__\u001b[38;5;241m.\u001b[39mld(\u001b[38;5;28mself\u001b[39m), ag__\u001b[38;5;241m.\u001b[39mld(iterator)), \u001b[38;5;28;01mNone\u001b[39;00m, fscope)\n\u001b[0;32m     16\u001b[0m \u001b[38;5;28;01mexcept\u001b[39;00m:\n\u001b[0;32m     17\u001b[0m     do_return \u001b[38;5;241m=\u001b[39m \u001b[38;5;28;01mFalse\u001b[39;00m\n",
      "\u001b[1;31mValueError\u001b[0m: in user code:\n\n    File \"C:\\Users\\DeepLabCut\\anaconda3\\envs\\vidan\\lib\\site-packages\\keras\\engine\\training.py\", line 1845, in predict_function  *\n        return step_function(self, iterator)\n    File \"C:\\Users\\DeepLabCut\\anaconda3\\envs\\vidan\\lib\\site-packages\\keras\\engine\\training.py\", line 1834, in step_function  **\n        outputs = model.distribute_strategy.run(run_step, args=(data,))\n    File \"C:\\Users\\DeepLabCut\\anaconda3\\envs\\vidan\\lib\\site-packages\\keras\\engine\\training.py\", line 1823, in run_step  **\n        outputs = model.predict_step(data)\n    File \"C:\\Users\\DeepLabCut\\anaconda3\\envs\\vidan\\lib\\site-packages\\keras\\engine\\training.py\", line 1791, in predict_step\n        return self(x, training=False)\n    File \"C:\\Users\\DeepLabCut\\anaconda3\\envs\\vidan\\lib\\site-packages\\keras\\utils\\traceback_utils.py\", line 67, in error_handler\n        raise e.with_traceback(filtered_tb) from None\n\n    ValueError: Exception encountered when calling layer \"conv2d_2\" (type Conv2D).\n    \n    Negative dimension size caused by subtracting 3 from 1 for '{{node sequential_1/conv2d_2/Conv2D}} = Conv2D[T=DT_FLOAT, data_format=\"NHWC\", dilations=[1, 1, 1, 1], explicit_paddings=[], padding=\"VALID\", strides=[1, 1, 1, 1], use_cudnn_on_gpu=true](sequential_1/ExpandDims, sequential_1/conv2d_2/Conv2D/ReadVariableOp)' with input shapes: [32,256,1,1], [3,3,1,64].\n    \n    Call arguments received by layer \"conv2d_2\" (type Conv2D):\n      • inputs=tf.Tensor(shape=(32, 256, 1, 1), dtype=float32)\n"
     ]
    }
   ],
   "source": [
    "\n",
    "import tensorflow as tf \n",
    "import pickle \n",
    "from tensorflow.keras.models import Sequential \n",
    "from tensorflow.keras.layers import Dense, Dropout, Activation, Flatten, Conv2D, MaxPooling2D\n",
    "from tensorflow.keras.callbacks import TensorBoard\n",
    "import time \n",
    "\n",
    "NAME=\"Pre-vs-Post-Injury-CNN-{}\".format(int(time.time()))\n",
    "\n",
    "tensorboard=TensorBoard(log_dir='logs/{}'.format(NAME))\n",
    "\n",
    "X=pickle.load(open(\"X.pickle\", \"rb\"))\n",
    "Y=pickle.load(open(\"Y.pickle\", \"rb\"))\n",
    "#Normalizes the values \n",
    "X=X/255.0\n",
    "\n",
    "model=Sequential()\n",
    "model.add(Conv2D(64, (3,3),input_shape=X.shape[1:]))\n",
    "model.add(Activation(\"relu\"))\n",
    "model.add(MaxPooling2D(pool_size=(2,2)))\n",
    "\n",
    "model.add(Conv2D(64, (3,3)))\n",
    "model.add(Activation(\"relu\"))\n",
    "model.add(MaxPooling2D(pool_size=(2,2)))\n",
    "\n",
    "model.add(Flatten())\n",
    "model.add(Dense(64))\n",
    "model.add(Activation(\"relu\"))\n",
    "model.add(Dense(1))\n",
    "\n",
    "model.add(Activation('sigmoid'))\n",
    "\n",
    "model.compile(loss=\"binary_crossentropy\", optimizer=\"adam\", metrics=['accuracy'])\n",
    "\n",
    "model.fit(X,Y, batch_size=32,epochs=3,validation_split=0.2,callbacks=[tensorboard])\n"
   ]
  },
  {
   "cell_type": "code",
   "execution_count": 17,
   "id": "3b7f214f",
   "metadata": {},
   "outputs": [
    {
     "ename": "SyntaxError",
     "evalue": "'(' was never closed (2404721033.py, line 1)",
     "output_type": "error",
     "traceback": [
      "\u001b[1;36m  Input \u001b[1;32mIn [17]\u001b[1;36m\u001b[0m\n\u001b[1;33m    print(int(model.predict(X[:1]))\u001b[0m\n\u001b[1;37m         ^\u001b[0m\n\u001b[1;31mSyntaxError\u001b[0m\u001b[1;31m:\u001b[0m '(' was never closed\n"
     ]
    }
   ],
   "source": [
    "\n",
    "print(int(model.predict(X[:1]))\n",
    "print(Y[0])"
   ]
  },
  {
   "cell_type": "code",
   "execution_count": null,
   "id": "b53d10e4",
   "metadata": {},
   "outputs": [],
   "source": []
  }
 ],
 "metadata": {
  "kernelspec": {
   "display_name": "Python 3 (ipykernel)",
   "language": "python",
   "name": "python3"
  },
  "language_info": {
   "codemirror_mode": {
    "name": "ipython",
    "version": 3
   },
   "file_extension": ".py",
   "mimetype": "text/x-python",
   "name": "python",
   "nbconvert_exporter": "python",
   "pygments_lexer": "ipython3",
   "version": "3.10.4"
  }
 },
 "nbformat": 4,
 "nbformat_minor": 5
}
