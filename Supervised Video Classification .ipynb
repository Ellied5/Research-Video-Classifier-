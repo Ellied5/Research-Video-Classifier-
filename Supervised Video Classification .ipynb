{
 "cells": [
  {
   "cell_type": "code",
   "execution_count": null,
   "id": "df99ea91",
   "metadata": {},
   "outputs": [],
   "source": [
    "import numpy as np\n",
    "import matplotlib.pyplot as mp\n",
    "import os \n",
    "import cv2 \n",
    "\n",
    "DataDir=\"F:/Summer 2022/Images\"\n",
    "Categories=[\"Post-Injury\", \"Pre-Injury\"]\n",
    "\n",
    "trainingdata=[] \n",
    "def createtrainingdata():\n",
    "    for category in Categories: \n",
    "        path=os.path.join(DataDir,category)\n",
    "        classnum=Categories.index(category)\n",
    "        for vid in os.listdir(path):\n",
    "            path=os.path.join(path,vid)\n",
    "            vid_array=[]\n",
    "            for frame in vid: \n",
    "                img_array=cv2.imread(os.path.join(path,frame),cv2.IMREAD,GRAYSCALE)\n",
    "                vid_array.append(img_append)\n",
    "            trainingdata.append([vid_array,classnum])"
   ]
  },
  {
   "cell_type": "code",
   "execution_count": null,
   "id": "b374db1d",
   "metadata": {},
   "outputs": [],
   "source": [
    "import random \n",
    "random.shuffle(trainingdata)"
   ]
  },
  {
   "cell_type": "code",
   "execution_count": null,
   "id": "dbe2ac07",
   "metadata": {},
   "outputs": [],
   "source": [
    "X=[]\n",
    "Y=[]\n",
    "for features,label in trainingdata\n",
    "    X.append(features)\n",
    "    y.append(label)\n",
    "    \n",
    "X=np.array(X).reshape(-1,X.shape(0),X.shape(1),1)\n"
   ]
  },
  {
   "cell_type": "code",
   "execution_count": null,
   "id": "dd5c48dc",
   "metadata": {},
   "outputs": [],
   "source": [
    "import pickle \n",
    "pickle_out=open(\"X.pickle\", \"wb\")\n",
    "pickle.dump(X,pickle_out)\n",
    "pickle_out.close()\n",
    "pickle_out=open(\"Y.pickle\", \"wb\")\n",
    "pickle.dump(Y,pickle_out)\n",
    "pickle_out.close()"
   ]
  },
  {
   "cell_type": "code",
   "execution_count": null,
   "id": "62f44c5c",
   "metadata": {},
   "outputs": [],
   "source": [
    "import tensorflow as tf \n",
    "from tensorflow.keras.models import Sequential \n",
    "from tensorflow.keras.layers import Dense, Dropout, Activation, Flatten, Conv2D, MaxPooling2D\n",
    "\n",
    "X=pickle.load(open(\"X.pickle\", \"rb\"))\n",
    "Y=pickle.load(open(\"Y.pickle\", \"rb\"))\n",
    "X=X/255.0\n",
    "\n",
    "model=Sequential()\n",
    "model.add(Conv2D(64, (3,3),input_shape=X.shape[1:]))\n",
    "model.add(Activation(\"relu\"))\n",
    "model.add(MaxPooling2D(pool_size=(2,2)))\n",
    "\n",
    "model.add(Conv2D(64, (3,3)))\n",
    "model.add(Activation(\"relu\"))\n",
    "model.add(MaxPooling2D(pool_size=(2,2)))\n",
    "\n",
    "model.add(Flatten())\n",
    "model.add(Dense(64))\n",
    "model.add(Dense(1))\n",
    "\n",
    "model.add(Activation('sigmoid'))\n",
    "\n",
    "model.compile(loss=\"binary_crossentropy\", optimizer=\"adam\", metrics=['accuracy'])\n",
    "\n",
    "model.fit(X,y, batch_size=32,epochs=3, validation_split=0.1)"
   ]
  }
 ],
 "metadata": {
  "kernelspec": {
   "display_name": "Python 3 (ipykernel)",
   "language": "python",
   "name": "python3"
  },
  "language_info": {
   "codemirror_mode": {
    "name": "ipython",
    "version": 3
   },
   "file_extension": ".py",
   "mimetype": "text/x-python",
   "name": "python",
   "nbconvert_exporter": "python",
   "pygments_lexer": "ipython3",
   "version": "3.10.4"
  }
 },
 "nbformat": 4,
 "nbformat_minor": 5
}
