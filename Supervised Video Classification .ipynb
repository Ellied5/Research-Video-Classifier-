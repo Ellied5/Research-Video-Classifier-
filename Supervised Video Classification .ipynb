{
 "cells": [
  {
   "cell_type": "code",
   "execution_count": 1,
   "id": "df99ea91",
   "metadata": {},
   "outputs": [
    {
     "name": "stdout",
     "output_type": "stream",
     "text": [
      "Training data is loading...\n",
      "Done!\n"
     ]
    }
   ],
   "source": [
    "\n",
    "import numpy as np\n",
    "import matplotlib.pyplot as plt\n",
    "import os \n",
    "import cv2 \n",
    "\n",
    "DataDir=\"F:/2022_Summer/data\"\n",
    "Categories=[\"Post-Injury\", \"Pre-Injury\"]\n",
    "\n",
    "trainingdata=[] \n",
    "def createtrainingdata():\n",
    "    print(\"Training data is loading...\")\n",
    "    for category in Categories: \n",
    "        path=os.path.join(DataDir,category)\n",
    "        classnum=Categories.index(category)\n",
    "        for vid in os.listdir(path):\n",
    "            vpath=os.path.join(path,vid)\n",
    "            #vid_array=[]\n",
    "            for frame in os.listdir(vpath): \n",
    "                img_array=cv2.imread(os.path.join(vpath,frame),0)\n",
    "               #vid_array.append(img_array)\n",
    "                trainingdata.append([img_array,classnum])\n",
    "            \n",
    "    print(\"Done!\")\n",
    "createtrainingdata()"
   ]
  },
  {
   "cell_type": "code",
   "execution_count": 2,
   "id": "b374db1d",
   "metadata": {},
   "outputs": [
    {
     "name": "stdout",
     "output_type": "stream",
     "text": [
      "Data is randomized!\n"
     ]
    }
   ],
   "source": [
    "import random \n",
    "random.shuffle(trainingdata)\n",
    "print(\"Data is randomized!\")"
   ]
  },
  {
   "cell_type": "code",
   "execution_count": 3,
   "id": "dbe2ac07",
   "metadata": {},
   "outputs": [
    {
     "name": "stdout",
     "output_type": "stream",
     "text": [
      "Data is formatted!\n"
     ]
    }
   ],
   "source": [
    "X=[]\n",
    "Y=[]\n",
    "for features,label in trainingdata:\n",
    "    X.append(features)\n",
    "    Y.append(label)\n",
    "\n",
    "X=np.array(X)\n",
    "Y=np.array(Y)\n",
    "X=X.reshape(-1,X[1].shape[0],X[1].shape[1],1)\n",
    "print(\"Data is formatted!\")"
   ]
  },
  {
   "cell_type": "code",
   "execution_count": 4,
   "id": "dd5c48dc",
   "metadata": {},
   "outputs": [],
   "source": [
    "import pickle \n",
    "pickle_out=open(\"X.pickle\", \"wb\")\n",
    "pickle.dump(X,pickle_out)\n",
    "pickle_out.close()\n",
    "pickle_out=open(\"Y.pickle\", \"wb\")\n",
    "pickle.dump(Y,pickle_out)\n",
    "pickle_out.close()"
   ]
  },
  {
   "cell_type": "code",
   "execution_count": 6,
   "id": "62f44c5c",
   "metadata": {},
   "outputs": [
    {
     "name": "stdout",
     "output_type": "stream",
     "text": [
      "Epoch 1/3\n",
      "104/104 [==============================] - 10s 93ms/step - loss: 0.1008 - accuracy: 0.9699 - val_loss: 0.0033 - val_accuracy: 0.9992\n",
      "Epoch 2/3\n",
      "104/104 [==============================] - 7s 67ms/step - loss: 4.7624e-04 - accuracy: 1.0000 - val_loss: 5.6060e-04 - val_accuracy: 1.0000\n",
      "Epoch 3/3\n",
      "104/104 [==============================] - 7s 67ms/step - loss: 9.0795e-05 - accuracy: 1.0000 - val_loss: 1.5599e-04 - val_accuracy: 1.0000\n"
     ]
    },
    {
     "data": {
      "text/plain": [
       "<keras.callbacks.History at 0x1bf347040a0>"
      ]
     },
     "execution_count": 6,
     "metadata": {},
     "output_type": "execute_result"
    }
   ],
   "source": [
    "import tensorflow as tf \n",
    "import pickle \n",
    "from tensorflow.keras.models import Sequential \n",
    "from tensorflow.keras.layers import Dense, Dropout, Activation, Flatten, Conv2D, MaxPooling2D\n",
    "\n",
    "X=pickle.load(open(\"X.pickle\", \"rb\"))\n",
    "Y=pickle.load(open(\"Y.pickle\", \"rb\"))\n",
    "X=X/255.0\n",
    "model=Sequential()\n",
    "model.add(Conv2D(64, (3,3),input_shape=X.shape[1:]))\n",
    "model.add(Activation(\"relu\"))\n",
    "model.add(MaxPooling2D(pool_size=(2,2)))\n",
    "\n",
    "model.add(Conv2D(64, (3,3)))\n",
    "model.add(Activation(\"relu\"))\n",
    "model.add(MaxPooling2D(pool_size=(2,2)))\n",
    "\n",
    "model.add(Flatten())\n",
    "model.add(Dense(64))\n",
    "model.add(Dense(1))\n",
    "\n",
    "model.add(Activation('sigmoid'))\n",
    "\n",
    "model.compile(loss=\"binary_crossentropy\", optimizer=\"adam\", metrics=['accuracy'])\n",
    "\n",
    "model.fit(X,Y, batch_size=32,class_weight = {0: 3, 1: 1},epochs=3, validation_split=1)"
   ]
  },
  {
   "cell_type": "code",
   "execution_count": null,
   "id": "3b7f214f",
   "metadata": {},
   "outputs": [],
   "source": []
  }
 ],
 "metadata": {
  "kernelspec": {
   "display_name": "Python 3 (ipykernel)",
   "language": "python",
   "name": "python3"
  },
  "language_info": {
   "codemirror_mode": {
    "name": "ipython",
    "version": 3
   },
   "file_extension": ".py",
   "mimetype": "text/x-python",
   "name": "python",
   "nbconvert_exporter": "python",
   "pygments_lexer": "ipython3",
   "version": "3.10.4"
  }
 },
 "nbformat": 4,
 "nbformat_minor": 5
}
